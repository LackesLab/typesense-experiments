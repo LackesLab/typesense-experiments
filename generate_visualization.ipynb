{
 "cells": [
  {
   "cell_type": "code",
   "execution_count": null,
   "metadata": {},
   "outputs": [],
   "source": [
    "import pandas as pd\n",
    "import plotly.express as px"
   ]
  },
  {
   "cell_type": "code",
   "execution_count": null,
   "metadata": {},
   "outputs": [],
   "source": [
    "df = pd.read_csv(\"measurements.csv\")\n",
    "df.head()"
   ]
  },
  {
   "cell_type": "code",
   "execution_count": null,
   "metadata": {},
   "outputs": [],
   "source": [
    "fig = px.scatter(df,\n",
    "                x=\"timing_search\",\n",
    "                y=\"timing_insert\",\n",
    "                color=\"n_documents_in_typesense\",\n",
    "                title=\"Insert and Search Timings of Typesense for Vector Data\",\n",
    "                labels={\n",
    "                     \"timing_search\": \"Search time (seconds)\",\n",
    "                     \"timing_insert\": \"Insert time (seconds)\",\n",
    "                     \"n_documents_in_typesense\": \"n Docs stored in TS\"\n",
    "                 })\n",
    "fig.show()"
   ]
  }
 ],
 "metadata": {
  "kernelspec": {
   "display_name": "typesense",
   "language": "python",
   "name": "python3"
  },
  "language_info": {
   "codemirror_mode": {
    "name": "ipython",
    "version": 3
   },
   "file_extension": ".py",
   "mimetype": "text/x-python",
   "name": "python",
   "nbconvert_exporter": "python",
   "pygments_lexer": "ipython3",
   "version": "3.9.16"
  },
  "orig_nbformat": 4
 },
 "nbformat": 4,
 "nbformat_minor": 2
}
